{
 "cells": [
  {
   "cell_type": "code",
   "execution_count": 1,
   "metadata": {},
   "outputs": [],
   "source": [
    "import pandas as pd\n",
    "import re"
   ]
  },
  {
   "cell_type": "markdown",
   "metadata": {},
   "source": [
    "In this notebook we:\n",
    "1. Generate a list of the VeriTas labeled filenames.\n",
    "2. Generate a data frame including median values for only labeled files.\n",
    "3. Generate a list of markers used in the experiment. Ensure the list uses uniform formatting."
   ]
  },
  {
   "cell_type": "markdown",
   "metadata": {},
   "source": [
    "### Generate list of VeriTas labeled filenames"
   ]
  },
  {
   "cell_type": "code",
   "execution_count": 2,
   "metadata": {},
   "outputs": [
    {
     "name": "stdout",
     "output_type": "stream",
     "text": [
      "(688, 8)\n"
     ]
    },
    {
     "data": {
      "text/html": [
       "<div>\n",
       "<style scoped>\n",
       "    .dataframe tbody tr th:only-of-type {\n",
       "        vertical-align: middle;\n",
       "    }\n",
       "\n",
       "    .dataframe tbody tr th {\n",
       "        vertical-align: top;\n",
       "    }\n",
       "\n",
       "    .dataframe thead th {\n",
       "        text-align: right;\n",
       "    }\n",
       "</style>\n",
       "<table border=\"1\" class=\"dataframe\">\n",
       "  <thead>\n",
       "    <tr style=\"text-align: right;\">\n",
       "      <th></th>\n",
       "      <th>Medians of Ho165Di (PE) for B cells</th>\n",
       "      <th>Medians of Ho165Di (PE) for CD4 T cells</th>\n",
       "      <th>Medians of Ho165Di (PE) for CD8 T cells</th>\n",
       "      <th>Medians of Ho165Di (PE) for NK cells</th>\n",
       "      <th>Medians of Ho165Di (PE) for CD14hi monocytes</th>\n",
       "      <th>Medians of Ho165Di (PE) for CD16hi monocytes</th>\n",
       "      <th>Medians of Ho165Di (PE) for CD1c DCs</th>\n",
       "      <th>Medians of Ho165Di (PE) for pDCs</th>\n",
       "    </tr>\n",
       "    <tr>\n",
       "      <th>FCS Filename</th>\n",
       "      <th></th>\n",
       "      <th></th>\n",
       "      <th></th>\n",
       "      <th></th>\n",
       "      <th></th>\n",
       "      <th></th>\n",
       "      <th></th>\n",
       "      <th></th>\n",
       "    </tr>\n",
       "  </thead>\n",
       "  <tbody>\n",
       "    <tr>\n",
       "      <th>161219_HIMC_Veritas_Screen_P1A01_FMO_VeriTas.fcs</th>\n",
       "      <td>4.732788</td>\n",
       "      <td>1.928152</td>\n",
       "      <td>1.649153</td>\n",
       "      <td>1.162573</td>\n",
       "      <td>6.228203</td>\n",
       "      <td>4.765468</td>\n",
       "      <td>5.105804</td>\n",
       "      <td>3.865644</td>\n",
       "    </tr>\n",
       "    <tr>\n",
       "      <th>161219_HIMC_Veritas_Screen_P1A01_FMO_Veri_nonlabeled.fcs</th>\n",
       "      <td>5.057770</td>\n",
       "      <td>1.889331</td>\n",
       "      <td>1.492631</td>\n",
       "      <td>0.726811</td>\n",
       "      <td>7.587465</td>\n",
       "      <td>6.734652</td>\n",
       "      <td>4.951740</td>\n",
       "      <td>3.051684</td>\n",
       "    </tr>\n",
       "    <tr>\n",
       "      <th>161219_HIMC_Veritas_Screen_P1A02_CD1a_VeriTas.fcs</th>\n",
       "      <td>13.089861</td>\n",
       "      <td>6.911612</td>\n",
       "      <td>7.016669</td>\n",
       "      <td>10.207640</td>\n",
       "      <td>25.348644</td>\n",
       "      <td>28.226051</td>\n",
       "      <td>19.358488</td>\n",
       "      <td>25.164061</td>\n",
       "    </tr>\n",
       "    <tr>\n",
       "      <th>161219_HIMC_Veritas_Screen_P1A02_CD1a_Veri_nonlabeled.fcs</th>\n",
       "      <td>12.878913</td>\n",
       "      <td>10.016663</td>\n",
       "      <td>9.529917</td>\n",
       "      <td>9.388466</td>\n",
       "      <td>19.264851</td>\n",
       "      <td>22.108725</td>\n",
       "      <td>28.400972</td>\n",
       "      <td>11.494913</td>\n",
       "    </tr>\n",
       "    <tr>\n",
       "      <th>161219_HIMC_Veritas_Screen_P1A03_CD1b_VeriTas.fcs</th>\n",
       "      <td>7.207995</td>\n",
       "      <td>5.860216</td>\n",
       "      <td>5.298354</td>\n",
       "      <td>7.442468</td>\n",
       "      <td>21.829674</td>\n",
       "      <td>21.126211</td>\n",
       "      <td>22.072254</td>\n",
       "      <td>22.924406</td>\n",
       "    </tr>\n",
       "  </tbody>\n",
       "</table>\n",
       "</div>"
      ],
      "text/plain": [
       "                                                    Medians of Ho165Di (PE) for B cells  \\\n",
       "FCS Filename                                                                              \n",
       "161219_HIMC_Veritas_Screen_P1A01_FMO_VeriTas.fcs                               4.732788   \n",
       "161219_HIMC_Veritas_Screen_P1A01_FMO_Veri_nonla...                             5.057770   \n",
       "161219_HIMC_Veritas_Screen_P1A02_CD1a_VeriTas.fcs                             13.089861   \n",
       "161219_HIMC_Veritas_Screen_P1A02_CD1a_Veri_nonl...                            12.878913   \n",
       "161219_HIMC_Veritas_Screen_P1A03_CD1b_VeriTas.fcs                              7.207995   \n",
       "\n",
       "                                                    Medians of Ho165Di (PE) for CD4 T cells  \\\n",
       "FCS Filename                                                                                  \n",
       "161219_HIMC_Veritas_Screen_P1A01_FMO_VeriTas.fcs                                   1.928152   \n",
       "161219_HIMC_Veritas_Screen_P1A01_FMO_Veri_nonla...                                 1.889331   \n",
       "161219_HIMC_Veritas_Screen_P1A02_CD1a_VeriTas.fcs                                  6.911612   \n",
       "161219_HIMC_Veritas_Screen_P1A02_CD1a_Veri_nonl...                                10.016663   \n",
       "161219_HIMC_Veritas_Screen_P1A03_CD1b_VeriTas.fcs                                  5.860216   \n",
       "\n",
       "                                                    Medians of Ho165Di (PE) for CD8 T cells  \\\n",
       "FCS Filename                                                                                  \n",
       "161219_HIMC_Veritas_Screen_P1A01_FMO_VeriTas.fcs                                   1.649153   \n",
       "161219_HIMC_Veritas_Screen_P1A01_FMO_Veri_nonla...                                 1.492631   \n",
       "161219_HIMC_Veritas_Screen_P1A02_CD1a_VeriTas.fcs                                  7.016669   \n",
       "161219_HIMC_Veritas_Screen_P1A02_CD1a_Veri_nonl...                                 9.529917   \n",
       "161219_HIMC_Veritas_Screen_P1A03_CD1b_VeriTas.fcs                                  5.298354   \n",
       "\n",
       "                                                    Medians of Ho165Di (PE) for NK cells  \\\n",
       "FCS Filename                                                                               \n",
       "161219_HIMC_Veritas_Screen_P1A01_FMO_VeriTas.fcs                                1.162573   \n",
       "161219_HIMC_Veritas_Screen_P1A01_FMO_Veri_nonla...                              0.726811   \n",
       "161219_HIMC_Veritas_Screen_P1A02_CD1a_VeriTas.fcs                              10.207640   \n",
       "161219_HIMC_Veritas_Screen_P1A02_CD1a_Veri_nonl...                              9.388466   \n",
       "161219_HIMC_Veritas_Screen_P1A03_CD1b_VeriTas.fcs                               7.442468   \n",
       "\n",
       "                                                    Medians of Ho165Di (PE) for CD14hi monocytes  \\\n",
       "FCS Filename                                                                                       \n",
       "161219_HIMC_Veritas_Screen_P1A01_FMO_VeriTas.fcs                                        6.228203   \n",
       "161219_HIMC_Veritas_Screen_P1A01_FMO_Veri_nonla...                                      7.587465   \n",
       "161219_HIMC_Veritas_Screen_P1A02_CD1a_VeriTas.fcs                                      25.348644   \n",
       "161219_HIMC_Veritas_Screen_P1A02_CD1a_Veri_nonl...                                     19.264851   \n",
       "161219_HIMC_Veritas_Screen_P1A03_CD1b_VeriTas.fcs                                      21.829674   \n",
       "\n",
       "                                                    Medians of Ho165Di (PE) for CD16hi monocytes  \\\n",
       "FCS Filename                                                                                       \n",
       "161219_HIMC_Veritas_Screen_P1A01_FMO_VeriTas.fcs                                        4.765468   \n",
       "161219_HIMC_Veritas_Screen_P1A01_FMO_Veri_nonla...                                      6.734652   \n",
       "161219_HIMC_Veritas_Screen_P1A02_CD1a_VeriTas.fcs                                      28.226051   \n",
       "161219_HIMC_Veritas_Screen_P1A02_CD1a_Veri_nonl...                                     22.108725   \n",
       "161219_HIMC_Veritas_Screen_P1A03_CD1b_VeriTas.fcs                                      21.126211   \n",
       "\n",
       "                                                    Medians of Ho165Di (PE) for CD1c DCs  \\\n",
       "FCS Filename                                                                               \n",
       "161219_HIMC_Veritas_Screen_P1A01_FMO_VeriTas.fcs                                5.105804   \n",
       "161219_HIMC_Veritas_Screen_P1A01_FMO_Veri_nonla...                              4.951740   \n",
       "161219_HIMC_Veritas_Screen_P1A02_CD1a_VeriTas.fcs                              19.358488   \n",
       "161219_HIMC_Veritas_Screen_P1A02_CD1a_Veri_nonl...                             28.400972   \n",
       "161219_HIMC_Veritas_Screen_P1A03_CD1b_VeriTas.fcs                              22.072254   \n",
       "\n",
       "                                                    Medians of Ho165Di (PE) for pDCs  \n",
       "FCS Filename                                                                          \n",
       "161219_HIMC_Veritas_Screen_P1A01_FMO_VeriTas.fcs                            3.865644  \n",
       "161219_HIMC_Veritas_Screen_P1A01_FMO_Veri_nonla...                          3.051684  \n",
       "161219_HIMC_Veritas_Screen_P1A02_CD1a_VeriTas.fcs                          25.164061  \n",
       "161219_HIMC_Veritas_Screen_P1A02_CD1a_Veri_nonl...                         11.494913  \n",
       "161219_HIMC_Veritas_Screen_P1A03_CD1b_VeriTas.fcs                          22.924406  "
      ]
     },
     "execution_count": 2,
     "metadata": {},
     "output_type": "execute_result"
    }
   ],
   "source": [
    "median_data = pd.read_csv('../data/primary/161219_HIMC_Veritas_Screen_Vericell_only_intensity_medians.csv')\n",
    "median_data.set_index('FCS Filename', inplace=True)\n",
    "print(median_data.shape)\n",
    "median_data.head()"
   ]
  },
  {
   "cell_type": "code",
   "execution_count": 3,
   "metadata": {},
   "outputs": [
    {
     "data": {
      "text/plain": [
       "array(['161219_HIMC_Veritas_Screen_P1A01_FMO_VeriTas.fcs',\n",
       "       '161219_HIMC_Veritas_Screen_P1A01_FMO_Veri_nonlabeled.fcs',\n",
       "       '161219_HIMC_Veritas_Screen_P1A02_CD1a_VeriTas.fcs',\n",
       "       '161219_HIMC_Veritas_Screen_P1A02_CD1a_Veri_nonlabeled.fcs'],\n",
       "      dtype=object)"
      ]
     },
     "execution_count": 3,
     "metadata": {},
     "output_type": "execute_result"
    }
   ],
   "source": [
    "fcs_filenames_all = median_data.index.values\n",
    "fcs_filenames_all[0:4]"
   ]
  },
  {
   "cell_type": "code",
   "execution_count": 4,
   "metadata": {},
   "outputs": [
    {
     "name": "stdout",
     "output_type": "stream",
     "text": [
      "344\n"
     ]
    }
   ],
   "source": [
    "fcs_filenames_veritas = [filename for filename in fcs_filenames_all if 'nonlabeled' not in filename]\n",
    "print(len(fcs_filenames_veritas))"
   ]
  },
  {
   "cell_type": "markdown",
   "metadata": {},
   "source": [
    "### Generate dataframe including median values for only labeled cells"
   ]
  },
  {
   "cell_type": "code",
   "execution_count": 5,
   "metadata": {},
   "outputs": [
    {
     "name": "stdout",
     "output_type": "stream",
     "text": [
      "(344, 8)\n"
     ]
    },
    {
     "data": {
      "text/html": [
       "<div>\n",
       "<style scoped>\n",
       "    .dataframe tbody tr th:only-of-type {\n",
       "        vertical-align: middle;\n",
       "    }\n",
       "\n",
       "    .dataframe tbody tr th {\n",
       "        vertical-align: top;\n",
       "    }\n",
       "\n",
       "    .dataframe thead th {\n",
       "        text-align: right;\n",
       "    }\n",
       "</style>\n",
       "<table border=\"1\" class=\"dataframe\">\n",
       "  <thead>\n",
       "    <tr style=\"text-align: right;\">\n",
       "      <th></th>\n",
       "      <th>Medians of Ho165Di (PE) for B cells</th>\n",
       "      <th>Medians of Ho165Di (PE) for CD4 T cells</th>\n",
       "      <th>Medians of Ho165Di (PE) for CD8 T cells</th>\n",
       "      <th>Medians of Ho165Di (PE) for NK cells</th>\n",
       "      <th>Medians of Ho165Di (PE) for CD14hi monocytes</th>\n",
       "      <th>Medians of Ho165Di (PE) for CD16hi monocytes</th>\n",
       "      <th>Medians of Ho165Di (PE) for CD1c DCs</th>\n",
       "      <th>Medians of Ho165Di (PE) for pDCs</th>\n",
       "    </tr>\n",
       "    <tr>\n",
       "      <th>FCS Filename</th>\n",
       "      <th></th>\n",
       "      <th></th>\n",
       "      <th></th>\n",
       "      <th></th>\n",
       "      <th></th>\n",
       "      <th></th>\n",
       "      <th></th>\n",
       "      <th></th>\n",
       "    </tr>\n",
       "  </thead>\n",
       "  <tbody>\n",
       "    <tr>\n",
       "      <th>161219_HIMC_Veritas_Screen_P1A01_FMO_VeriTas.fcs</th>\n",
       "      <td>4.732788</td>\n",
       "      <td>1.928152</td>\n",
       "      <td>1.649153</td>\n",
       "      <td>1.162573</td>\n",
       "      <td>6.228203</td>\n",
       "      <td>4.765468</td>\n",
       "      <td>5.105804</td>\n",
       "      <td>3.865644</td>\n",
       "    </tr>\n",
       "    <tr>\n",
       "      <th>161219_HIMC_Veritas_Screen_P1A02_CD1a_VeriTas.fcs</th>\n",
       "      <td>13.089861</td>\n",
       "      <td>6.911612</td>\n",
       "      <td>7.016669</td>\n",
       "      <td>10.207640</td>\n",
       "      <td>25.348644</td>\n",
       "      <td>28.226051</td>\n",
       "      <td>19.358488</td>\n",
       "      <td>25.164061</td>\n",
       "    </tr>\n",
       "    <tr>\n",
       "      <th>161219_HIMC_Veritas_Screen_P1A03_CD1b_VeriTas.fcs</th>\n",
       "      <td>7.207995</td>\n",
       "      <td>5.860216</td>\n",
       "      <td>5.298354</td>\n",
       "      <td>7.442468</td>\n",
       "      <td>21.829674</td>\n",
       "      <td>21.126211</td>\n",
       "      <td>22.072254</td>\n",
       "      <td>22.924406</td>\n",
       "    </tr>\n",
       "    <tr>\n",
       "      <th>161219_HIMC_Veritas_Screen_P1A04_CD1c_VeriTas.fcs</th>\n",
       "      <td>19.833889</td>\n",
       "      <td>5.624355</td>\n",
       "      <td>4.260443</td>\n",
       "      <td>6.553532</td>\n",
       "      <td>36.203098</td>\n",
       "      <td>18.008711</td>\n",
       "      <td>92.064938</td>\n",
       "      <td>2.275819</td>\n",
       "    </tr>\n",
       "    <tr>\n",
       "      <th>161219_HIMC_Veritas_Screen_P1A05_CD1d_VeriTas.fcs</th>\n",
       "      <td>18.794231</td>\n",
       "      <td>6.496009</td>\n",
       "      <td>6.794955</td>\n",
       "      <td>8.896626</td>\n",
       "      <td>99.334129</td>\n",
       "      <td>38.983028</td>\n",
       "      <td>124.732323</td>\n",
       "      <td>28.038233</td>\n",
       "    </tr>\n",
       "  </tbody>\n",
       "</table>\n",
       "</div>"
      ],
      "text/plain": [
       "                                                   Medians of Ho165Di (PE) for B cells  \\\n",
       "FCS Filename                                                                             \n",
       "161219_HIMC_Veritas_Screen_P1A01_FMO_VeriTas.fcs                              4.732788   \n",
       "161219_HIMC_Veritas_Screen_P1A02_CD1a_VeriTas.fcs                            13.089861   \n",
       "161219_HIMC_Veritas_Screen_P1A03_CD1b_VeriTas.fcs                             7.207995   \n",
       "161219_HIMC_Veritas_Screen_P1A04_CD1c_VeriTas.fcs                            19.833889   \n",
       "161219_HIMC_Veritas_Screen_P1A05_CD1d_VeriTas.fcs                            18.794231   \n",
       "\n",
       "                                                   Medians of Ho165Di (PE) for CD4 T cells  \\\n",
       "FCS Filename                                                                                 \n",
       "161219_HIMC_Veritas_Screen_P1A01_FMO_VeriTas.fcs                                  1.928152   \n",
       "161219_HIMC_Veritas_Screen_P1A02_CD1a_VeriTas.fcs                                 6.911612   \n",
       "161219_HIMC_Veritas_Screen_P1A03_CD1b_VeriTas.fcs                                 5.860216   \n",
       "161219_HIMC_Veritas_Screen_P1A04_CD1c_VeriTas.fcs                                 5.624355   \n",
       "161219_HIMC_Veritas_Screen_P1A05_CD1d_VeriTas.fcs                                 6.496009   \n",
       "\n",
       "                                                   Medians of Ho165Di (PE) for CD8 T cells  \\\n",
       "FCS Filename                                                                                 \n",
       "161219_HIMC_Veritas_Screen_P1A01_FMO_VeriTas.fcs                                  1.649153   \n",
       "161219_HIMC_Veritas_Screen_P1A02_CD1a_VeriTas.fcs                                 7.016669   \n",
       "161219_HIMC_Veritas_Screen_P1A03_CD1b_VeriTas.fcs                                 5.298354   \n",
       "161219_HIMC_Veritas_Screen_P1A04_CD1c_VeriTas.fcs                                 4.260443   \n",
       "161219_HIMC_Veritas_Screen_P1A05_CD1d_VeriTas.fcs                                 6.794955   \n",
       "\n",
       "                                                   Medians of Ho165Di (PE) for NK cells  \\\n",
       "FCS Filename                                                                              \n",
       "161219_HIMC_Veritas_Screen_P1A01_FMO_VeriTas.fcs                               1.162573   \n",
       "161219_HIMC_Veritas_Screen_P1A02_CD1a_VeriTas.fcs                             10.207640   \n",
       "161219_HIMC_Veritas_Screen_P1A03_CD1b_VeriTas.fcs                              7.442468   \n",
       "161219_HIMC_Veritas_Screen_P1A04_CD1c_VeriTas.fcs                              6.553532   \n",
       "161219_HIMC_Veritas_Screen_P1A05_CD1d_VeriTas.fcs                              8.896626   \n",
       "\n",
       "                                                   Medians of Ho165Di (PE) for CD14hi monocytes  \\\n",
       "FCS Filename                                                                                      \n",
       "161219_HIMC_Veritas_Screen_P1A01_FMO_VeriTas.fcs                                       6.228203   \n",
       "161219_HIMC_Veritas_Screen_P1A02_CD1a_VeriTas.fcs                                     25.348644   \n",
       "161219_HIMC_Veritas_Screen_P1A03_CD1b_VeriTas.fcs                                     21.829674   \n",
       "161219_HIMC_Veritas_Screen_P1A04_CD1c_VeriTas.fcs                                     36.203098   \n",
       "161219_HIMC_Veritas_Screen_P1A05_CD1d_VeriTas.fcs                                     99.334129   \n",
       "\n",
       "                                                   Medians of Ho165Di (PE) for CD16hi monocytes  \\\n",
       "FCS Filename                                                                                      \n",
       "161219_HIMC_Veritas_Screen_P1A01_FMO_VeriTas.fcs                                       4.765468   \n",
       "161219_HIMC_Veritas_Screen_P1A02_CD1a_VeriTas.fcs                                     28.226051   \n",
       "161219_HIMC_Veritas_Screen_P1A03_CD1b_VeriTas.fcs                                     21.126211   \n",
       "161219_HIMC_Veritas_Screen_P1A04_CD1c_VeriTas.fcs                                     18.008711   \n",
       "161219_HIMC_Veritas_Screen_P1A05_CD1d_VeriTas.fcs                                     38.983028   \n",
       "\n",
       "                                                   Medians of Ho165Di (PE) for CD1c DCs  \\\n",
       "FCS Filename                                                                              \n",
       "161219_HIMC_Veritas_Screen_P1A01_FMO_VeriTas.fcs                               5.105804   \n",
       "161219_HIMC_Veritas_Screen_P1A02_CD1a_VeriTas.fcs                             19.358488   \n",
       "161219_HIMC_Veritas_Screen_P1A03_CD1b_VeriTas.fcs                             22.072254   \n",
       "161219_HIMC_Veritas_Screen_P1A04_CD1c_VeriTas.fcs                             92.064938   \n",
       "161219_HIMC_Veritas_Screen_P1A05_CD1d_VeriTas.fcs                            124.732323   \n",
       "\n",
       "                                                   Medians of Ho165Di (PE) for pDCs  \n",
       "FCS Filename                                                                         \n",
       "161219_HIMC_Veritas_Screen_P1A01_FMO_VeriTas.fcs                           3.865644  \n",
       "161219_HIMC_Veritas_Screen_P1A02_CD1a_VeriTas.fcs                         25.164061  \n",
       "161219_HIMC_Veritas_Screen_P1A03_CD1b_VeriTas.fcs                         22.924406  \n",
       "161219_HIMC_Veritas_Screen_P1A04_CD1c_VeriTas.fcs                          2.275819  \n",
       "161219_HIMC_Veritas_Screen_P1A05_CD1d_VeriTas.fcs                         28.038233  "
      ]
     },
     "execution_count": 5,
     "metadata": {},
     "output_type": "execute_result"
    }
   ],
   "source": [
    "median_data_veritas = median_data[median_data.index.isin(fcs_filenames_veritas)]\n",
    "print(median_data_veritas.shape)\n",
    "median_data_veritas.head()"
   ]
  },
  {
   "cell_type": "markdown",
   "metadata": {},
   "source": [
    "### Generate list of markers:\n",
    "match text after 5th underscore and before _Veri"
   ]
  },
  {
   "cell_type": "code",
   "execution_count": 6,
   "metadata": {},
   "outputs": [
    {
     "name": "stdout",
     "output_type": "stream",
     "text": [
      "344\n"
     ]
    },
    {
     "data": {
      "text/plain": [
       "['FMO', 'CD1a', 'CD1b']"
      ]
     },
     "execution_count": 6,
     "metadata": {},
     "output_type": "execute_result"
    }
   ],
   "source": [
    "veritas_markers = []\n",
    "for filename in fcs_filenames_veritas:\n",
    "    filename_split = filename.split('_')\n",
    "    filename_marker = []\n",
    "    \n",
    "    i = 5\n",
    "    while not filename_split[i].startswith('Veri'):\n",
    "        filename_marker.append(filename_split[i])\n",
    "        i += 1\n",
    "\n",
    "    veritas_marker = ('_').join(filename_marker)\n",
    "    veritas_markers.append(veritas_marker)\n",
    "    \n",
    "print(len(veritas_markers))\n",
    "veritas_markers[0:3]"
   ]
  },
  {
   "cell_type": "markdown",
   "metadata": {},
   "source": [
    "#### Fix outlier names\n",
    "We also replace '.' with '_' to prevent potential bugs in the future."
   ]
  },
  {
   "cell_type": "code",
   "execution_count": 7,
   "metadata": {},
   "outputs": [
    {
     "data": {
      "text/plain": [
       "['FMO', 'CD1a', 'CD1b']"
      ]
     },
     "execution_count": 7,
     "metadata": {},
     "output_type": "execute_result"
    }
   ],
   "source": [
    "veritas_markers_filt = ['CD318' if marker is'CD318-()' else marker for marker in veritas_markers]\n",
    "veritas_markers_filt[0:3]"
   ]
  },
  {
   "cell_type": "code",
   "execution_count": 8,
   "metadata": {},
   "outputs": [
    {
     "data": {
      "text/plain": [
       "['FMO', 'CD1a', 'CD1b']"
      ]
     },
     "execution_count": 8,
     "metadata": {},
     "output_type": "execute_result"
    }
   ],
   "source": [
    "veritas_markers_filt = [marker.replace('.', '_') for marker in veritas_markers_filt]\n",
    "veritas_markers_filt[0:3]"
   ]
  },
  {
   "cell_type": "code",
   "execution_count": 9,
   "metadata": {},
   "outputs": [
    {
     "data": {
      "text/plain": [
       "344"
      ]
     },
     "execution_count": 9,
     "metadata": {},
     "output_type": "execute_result"
    }
   ],
   "source": [
    "len(veritas_markers_filt)"
   ]
  },
  {
   "cell_type": "markdown",
   "metadata": {},
   "source": [
    "#### Note: FMO is duplicated in our list. It corresponds to both the first and last filename\n",
    "After speaking with Adeeb, we keep only the first FMO (also known as FMO1 in other files)."
   ]
  },
  {
   "cell_type": "code",
   "execution_count": 10,
   "metadata": {},
   "outputs": [
    {
     "data": {
      "text/plain": [
       "343"
      ]
     },
     "execution_count": 10,
     "metadata": {},
     "output_type": "execute_result"
    }
   ],
   "source": [
    "len(set(veritas_markers_filt))"
   ]
  },
  {
   "cell_type": "code",
   "execution_count": 11,
   "metadata": {},
   "outputs": [
    {
     "name": "stdout",
     "output_type": "stream",
     "text": [
      "343\n",
      "343\n"
     ]
    }
   ],
   "source": [
    "veritas_markers_filt = veritas_markers_filt[0:-1]\n",
    "print(len(veritas_markers_filt))\n",
    "print(len(set(veritas_markers_filt)))"
   ]
  }
 ],
 "metadata": {
  "kernelspec": {
   "display_name": "Python 3",
   "language": "python",
   "name": "python3"
  },
  "language_info": {
   "codemirror_mode": {
    "name": "ipython",
    "version": 3
   },
   "file_extension": ".py",
   "mimetype": "text/x-python",
   "name": "python",
   "nbconvert_exporter": "python",
   "pygments_lexer": "ipython3",
   "version": "3.6.5"
  }
 },
 "nbformat": 4,
 "nbformat_minor": 2
}
